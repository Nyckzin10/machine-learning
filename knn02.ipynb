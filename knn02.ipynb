{
 "cells": [
  {
   "cell_type": "markdown",
   "id": "71eb4a4a-e8ff-407d-bab9-3e44232b7348",
   "metadata": {},
   "source": [
    "### Carregando a base dados com dígitos"
   ]
  },
  {
   "cell_type": "code",
   "execution_count": 5,
   "id": "fd836929-936a-492b-84bf-4267238962a4",
   "metadata": {},
   "outputs": [],
   "source": [
    "# import dataset , classifers , and performace, metrics\n",
    "from sklearn import datasets, svm, metrics \n",
    "import matplotlib.pyplot as plt\n",
    "\n",
    "\n",
    "digits = datasets.load_digits()"
   ]
  },
  {
   "cell_type": "markdown",
   "id": "98c07399-6481-4ff0-b3c1-2fde4c369e64",
   "metadata": {},
   "source": [
    "- Describe and datasets "
   ]
  },
  {
   "cell_type": "code",
   "execution_count": 8,
   "id": "ae24dcb8-6423-4e24-b718-a3b93e1f845c",
   "metadata": {},
   "outputs": [
    {
     "name": "stdout",
     "output_type": "stream",
     "text": [
      ".. _digits_dataset:\n",
      "\n",
      "Optical recognition of handwritten digits dataset\n",
      "--------------------------------------------------\n",
      "\n",
      "**Data Set Characteristics:**\n",
      "\n",
      "    :Number of Instances: 1797\n",
      "    :Number of Attributes: 64\n",
      "    :Attribute Information: 8x8 image of integer pixels in the range 0..16.\n",
      "    :Missing Attribute Values: None\n",
      "    :Creator: E. Alpaydin (alpaydin '@' boun.edu.tr)\n",
      "    :Date: July; 1998\n",
      "\n",
      "This is a copy of the test set of the UCI ML hand-written digits datasets\n",
      "https://archive.ics.uci.edu/ml/datasets/Optical+Recognition+of+Handwritten+Digits\n",
      "\n",
      "The data set contains images of hand-written digits: 10 classes where\n",
      "each class refers to a digit.\n",
      "\n",
      "Preprocessing programs made available by NIST were used to extract\n",
      "normalized bitmaps of handwritten digits from a preprinted form. From a\n",
      "total of 43 people, 30 contributed to the training set and different 13\n",
      "to the test set. 32x32 bitmaps are divided into nonoverlapping blocks of\n",
      "4x4 and the number of on pixels are counted in each block. This generates\n",
      "an input matrix of 8x8 where each element is an integer in the range\n",
      "0..16. This reduces dimensionality and gives invariance to small\n",
      "distortions.\n",
      "\n",
      "For info on NIST preprocessing routines, see M. D. Garris, J. L. Blue, G.\n",
      "T. Candela, D. L. Dimmick, J. Geist, P. J. Grother, S. A. Janet, and C.\n",
      "L. Wilson, NIST Form-Based Handprint Recognition System, NISTIR 5469,\n",
      "1994.\n",
      "\n",
      ".. topic:: References\n",
      "\n",
      "  - C. Kaynak (1995) Methods of Combining Multiple Classifiers and Their\n",
      "    Applications to Handwritten Digit Recognition, MSc Thesis, Institute of\n",
      "    Graduate Studies in Science and Engineering, Bogazici University.\n",
      "  - E. Alpaydin, C. Kaynak (1998) Cascading Classifiers, Kybernetika.\n",
      "  - Ken Tang and Ponnuthurai N. Suganthan and Xi Yao and A. Kai Qin.\n",
      "    Linear dimensionalityreduction using relevance weighted LDA. School of\n",
      "    Electrical and Electronic Engineering Nanyang Technological University.\n",
      "    2005.\n",
      "  - Claudio Gentile. A New Approximate Maximal Margin Classification\n",
      "    Algorithm. NIPS. 2000.\n",
      "\n"
     ]
    }
   ],
   "source": [
    "print(digits.DESCR)"
   ]
  },
  {
   "cell_type": "code",
   "execution_count": 10,
   "id": "75ecf72a-e042-48dd-b693-d11a47ebe4a0",
   "metadata": {},
   "outputs": [
    {
     "data": {
      "text/plain": [
       "array([[[ 0.,  0.,  5., ...,  1.,  0.,  0.],\n",
       "        [ 0.,  0., 13., ..., 15.,  5.,  0.],\n",
       "        [ 0.,  3., 15., ..., 11.,  8.,  0.],\n",
       "        ...,\n",
       "        [ 0.,  4., 11., ..., 12.,  7.,  0.],\n",
       "        [ 0.,  2., 14., ..., 12.,  0.,  0.],\n",
       "        [ 0.,  0.,  6., ...,  0.,  0.,  0.]],\n",
       "\n",
       "       [[ 0.,  0.,  0., ...,  5.,  0.,  0.],\n",
       "        [ 0.,  0.,  0., ...,  9.,  0.,  0.],\n",
       "        [ 0.,  0.,  3., ...,  6.,  0.,  0.],\n",
       "        ...,\n",
       "        [ 0.,  0.,  1., ...,  6.,  0.,  0.],\n",
       "        [ 0.,  0.,  1., ...,  6.,  0.,  0.],\n",
       "        [ 0.,  0.,  0., ..., 10.,  0.,  0.]],\n",
       "\n",
       "       [[ 0.,  0.,  0., ..., 12.,  0.,  0.],\n",
       "        [ 0.,  0.,  3., ..., 14.,  0.,  0.],\n",
       "        [ 0.,  0.,  8., ..., 16.,  0.,  0.],\n",
       "        ...,\n",
       "        [ 0.,  9., 16., ...,  0.,  0.,  0.],\n",
       "        [ 0.,  3., 13., ..., 11.,  5.,  0.],\n",
       "        [ 0.,  0.,  0., ..., 16.,  9.,  0.]],\n",
       "\n",
       "       ...,\n",
       "\n",
       "       [[ 0.,  0.,  1., ...,  1.,  0.,  0.],\n",
       "        [ 0.,  0., 13., ...,  2.,  1.,  0.],\n",
       "        [ 0.,  0., 16., ..., 16.,  5.,  0.],\n",
       "        ...,\n",
       "        [ 0.,  0., 16., ..., 15.,  0.,  0.],\n",
       "        [ 0.,  0., 15., ..., 16.,  0.,  0.],\n",
       "        [ 0.,  0.,  2., ...,  6.,  0.,  0.]],\n",
       "\n",
       "       [[ 0.,  0.,  2., ...,  0.,  0.,  0.],\n",
       "        [ 0.,  0., 14., ..., 15.,  1.,  0.],\n",
       "        [ 0.,  4., 16., ..., 16.,  7.,  0.],\n",
       "        ...,\n",
       "        [ 0.,  0.,  0., ..., 16.,  2.,  0.],\n",
       "        [ 0.,  0.,  4., ..., 16.,  2.,  0.],\n",
       "        [ 0.,  0.,  5., ..., 12.,  0.,  0.]],\n",
       "\n",
       "       [[ 0.,  0., 10., ...,  1.,  0.,  0.],\n",
       "        [ 0.,  2., 16., ...,  1.,  0.,  0.],\n",
       "        [ 0.,  0., 15., ..., 15.,  0.,  0.],\n",
       "        ...,\n",
       "        [ 0.,  4., 16., ..., 16.,  6.,  0.],\n",
       "        [ 0.,  8., 16., ..., 16.,  8.,  0.],\n",
       "        [ 0.,  1.,  8., ..., 12.,  1.,  0.]]])"
      ]
     },
     "execution_count": 10,
     "metadata": {},
     "output_type": "execute_result"
    }
   ],
   "source": [
    "# Visualizando as imagens dos dados \n",
    "digits.images"
   ]
  },
  {
   "cell_type": "code",
   "execution_count": 13,
   "id": "b5342de9-66cd-4d8f-b6c7-7ba493baa7a2",
   "metadata": {},
   "outputs": [
    {
     "data": {
      "text/plain": [
       "array([0, 1, 2, 3, 4, 5, 6, 7, 8, 9])"
      ]
     },
     "execution_count": 13,
     "metadata": {},
     "output_type": "execute_result"
    }
   ],
   "source": [
    "# Visualizando a nossas classes \n",
    "digits.target_names"
   ]
  },
  {
   "cell_type": "markdown",
   "id": "a88d5c66-5220-4a1e-9398-bfe07d5f14b4",
   "metadata": {},
   "source": [
    "## Visualizando imagens e classes "
   ]
  },
  {
   "cell_type": "code",
   "execution_count": 16,
   "id": "e1c43be6-0243-43c5-890a-df28f3750d1d",
   "metadata": {},
   "outputs": [
    {
     "data": {
      "image/png": "[encoded data removed]",
      "text/plain": [
       "<Figure size 432x288 with 10 Axes>"
      ]
     },
     "metadata": {
      "needs_background": "light"
     },
     "output_type": "display_data"
    }
   ],
   "source": [
    "imagens_and_labels = list(zip(digits.images, digits.target_names))\n",
    "for index, (image, label) in enumerate(imagens_and_labels[:10]):\n",
    "    plt.subplot(3,4,index+1)\n",
    "    plt.axis('off')\n",
    "    plt.imshow(image, cmap=plt.cm.gray_r, interpolation='nearest')\n",
    "    plt.title('Training: %i' % label)"
   ]
  },
  {
   "cell_type": "markdown",
   "id": "7d3940e2-1174-4357-8f9b-62b797b0bace",
   "metadata": {},
   "source": [
    "### Convertendo para o dataframe "
   ]
  },
  {
   "cell_type": "code",
   "execution_count": 23,
   "id": "879f60b9-6e2e-45f9-8106-0ea536289efc",
   "metadata": {},
   "outputs": [],
   "source": [
    "n_samples = len(digits.images)\n",
    "data = digits.images.reshape((n_samples, -1))\n",
    "classe = digits.target"
   ]
  },
  {
   "cell_type": "code",
   "execution_count": 26,
   "id": "f7e34c91-f883-4f2f-97b1-0bb7e49645ad",
   "metadata": {},
   "outputs": [],
   "source": [
    "import pandas as pd "
   ]
  },
  {
   "cell_type": "code",
   "execution_count": 28,
   "id": "0ab2a5ee-3c06-48b9-93d2-9e002644d0be",
   "metadata": {},
   "outputs": [],
   "source": [
    "dataset = pd.DataFrame(data)\n",
    "dataset['classe'] = classe"
   ]
  },
  {
   "cell_type": "code",
   "execution_count": 30,
   "id": "02e8d6b4-84c7-457e-87e1-cadc32434e2c",
   "metadata": {},
   "outputs": [
    {
     "data": {
      "text/html": [
       "<div>\n",
       "<style scoped>\n",
       "    .dataframe tbody tr th:only-of-type {\n",
       "        vertical-align: middle;\n",
       "    }\n",
       "\n",
       "    .dataframe tbody tr th {\n",
       "        vertical-align: top;\n",
       "    }\n",
       "\n",
       "    .dataframe thead th {\n",
       "        text-align: right;\n",
       "    }\n",
       "</style>\n",
       "<table border=\"1\" class=\"dataframe\">\n",
       "  <thead>\n",
       "    <tr style=\"text-align: right;\">\n",
       "      <th></th>\n",
       "      <th>0</th>\n",
       "      <th>1</th>\n",
       "      <th>2</th>\n",
       "      <th>3</th>\n",
       "      <th>4</th>\n",
       "      <th>5</th>\n",
       "      <th>6</th>\n",
       "      <th>7</th>\n",
       "      <th>8</th>\n",
       "      <th>9</th>\n",
       "      <th>...</th>\n",
       "      <th>55</th>\n",
       "      <th>56</th>\n",
       "      <th>57</th>\n",
       "      <th>58</th>\n",
       "      <th>59</th>\n",
       "      <th>60</th>\n",
       "      <th>61</th>\n",
       "      <th>62</th>\n",
       "      <th>63</th>\n",
       "      <th>classe</th>\n",
       "    </tr>\n",
       "  </thead>\n",
       "  <tbody>\n",
       "    <tr>\n",
       "      <th>0</th>\n",
       "      <td>0.0</td>\n",
       "      <td>0.0</td>\n",
       "      <td>5.0</td>\n",
       "      <td>13.0</td>\n",
       "      <td>9.0</td>\n",
       "      <td>1.0</td>\n",
       "      <td>0.0</td>\n",
       "      <td>0.0</td>\n",
       "      <td>0.0</td>\n",
       "      <td>0.0</td>\n",
       "      <td>...</td>\n",
       "      <td>0.0</td>\n",
       "      <td>0.0</td>\n",
       "      <td>0.0</td>\n",
       "      <td>6.0</td>\n",
       "      <td>13.0</td>\n",
       "      <td>10.0</td>\n",
       "      <td>0.0</td>\n",
       "      <td>0.0</td>\n",
       "      <td>0.0</td>\n",
       "      <td>0</td>\n",
       "    </tr>\n",
       "    <tr>\n",
       "      <th>1</th>\n",
       "      <td>0.0</td>\n",
       "      <td>0.0</td>\n",
       "      <td>0.0</td>\n",
       "      <td>12.0</td>\n",
       "      <td>13.0</td>\n",
       "      <td>5.0</td>\n",
       "      <td>0.0</td>\n",
       "      <td>0.0</td>\n",
       "      <td>0.0</td>\n",
       "      <td>0.0</td>\n",
       "      <td>...</td>\n",
       "      <td>0.0</td>\n",
       "      <td>0.0</td>\n",
       "      <td>0.0</td>\n",
       "      <td>0.0</td>\n",
       "      <td>11.0</td>\n",
       "      <td>16.0</td>\n",
       "      <td>10.0</td>\n",
       "      <td>0.0</td>\n",
       "      <td>0.0</td>\n",
       "      <td>1</td>\n",
       "    </tr>\n",
       "    <tr>\n",
       "      <th>2</th>\n",
       "      <td>0.0</td>\n",
       "      <td>0.0</td>\n",
       "      <td>0.0</td>\n",
       "      <td>4.0</td>\n",
       "      <td>15.0</td>\n",
       "      <td>12.0</td>\n",
       "      <td>0.0</td>\n",
       "      <td>0.0</td>\n",
       "      <td>0.0</td>\n",
       "      <td>0.0</td>\n",
       "      <td>...</td>\n",
       "      <td>0.0</td>\n",
       "      <td>0.0</td>\n",
       "      <td>0.0</td>\n",
       "      <td>0.0</td>\n",
       "      <td>3.0</td>\n",
       "      <td>11.0</td>\n",
       "      <td>16.0</td>\n",
       "      <td>9.0</td>\n",
       "      <td>0.0</td>\n",
       "      <td>2</td>\n",
       "    </tr>\n",
       "    <tr>\n",
       "      <th>3</th>\n",
       "      <td>0.0</td>\n",
       "      <td>0.0</td>\n",
       "      <td>7.0</td>\n",
       "      <td>15.0</td>\n",
       "      <td>13.0</td>\n",
       "      <td>1.0</td>\n",
       "      <td>0.0</td>\n",
       "      <td>0.0</td>\n",
       "      <td>0.0</td>\n",
       "      <td>8.0</td>\n",
       "      <td>...</td>\n",
       "      <td>0.0</td>\n",
       "      <td>0.0</td>\n",
       "      <td>0.0</td>\n",
       "      <td>7.0</td>\n",
       "      <td>13.0</td>\n",
       "      <td>13.0</td>\n",
       "      <td>9.0</td>\n",
       "      <td>0.0</td>\n",
       "      <td>0.0</td>\n",
       "      <td>3</td>\n",
       "    </tr>\n",
       "    <tr>\n",
       "      <th>4</th>\n",
       "      <td>0.0</td>\n",
       "      <td>0.0</td>\n",
       "      <td>0.0</td>\n",
       "      <td>1.0</td>\n",
       "      <td>11.0</td>\n",
       "      <td>0.0</td>\n",
       "      <td>0.0</td>\n",
       "      <td>0.0</td>\n",
       "      <td>0.0</td>\n",
       "      <td>0.0</td>\n",
       "      <td>...</td>\n",
       "      <td>0.0</td>\n",
       "      <td>0.0</td>\n",
       "      <td>0.0</td>\n",
       "      <td>0.0</td>\n",
       "      <td>2.0</td>\n",
       "      <td>16.0</td>\n",
       "      <td>4.0</td>\n",
       "      <td>0.0</td>\n",
       "      <td>0.0</td>\n",
       "      <td>4</td>\n",
       "    </tr>\n",
       "  </tbody>\n",
       "</table>\n",
       "<p>5 rows × 65 columns</p>\n",
       "</div>"
      ],
      "text/plain": [
       "     0    1    2     3     4     5    6    7    8    9  ...   55   56   57  \\\n",
       "0  0.0  0.0  5.0  13.0   9.0   1.0  0.0  0.0  0.0  0.0  ...  0.0  0.0  0.0   \n",
       "1  0.0  0.0  0.0  12.0  13.0   5.0  0.0  0.0  0.0  0.0  ...  0.0  0.0  0.0   \n",
       "2  0.0  0.0  0.0   4.0  15.0  12.0  0.0  0.0  0.0  0.0  ...  0.0  0.0  0.0   \n",
       "3  0.0  0.0  7.0  15.0  13.0   1.0  0.0  0.0  0.0  8.0  ...  0.0  0.0  0.0   \n",
       "4  0.0  0.0  0.0   1.0  11.0   0.0  0.0  0.0  0.0  0.0  ...  0.0  0.0  0.0   \n",
       "\n",
       "    58    59    60    61   62   63  classe  \n",
       "0  6.0  13.0  10.0   0.0  0.0  0.0       0  \n",
       "1  0.0  11.0  16.0  10.0  0.0  0.0       1  \n",
       "2  0.0   3.0  11.0  16.0  9.0  0.0       2  \n",
       "3  7.0  13.0  13.0   9.0  0.0  0.0       3  \n",
       "4  0.0   2.0  16.0   4.0  0.0  0.0       4  \n",
       "\n",
       "[5 rows x 65 columns]"
      ]
     },
     "execution_count": 30,
     "metadata": {},
     "output_type": "execute_result"
    }
   ],
   "source": [
    "dataset.head()"
   ]
  },
  {
   "cell_type": "markdown",
   "id": "6879c02c-ac85-45a9-9171-5ebbf624eefc",
   "metadata": {},
   "source": [
    "## Divindo os dados de test e treinamento "
   ]
  },
  {
   "cell_type": "code",
   "execution_count": 34,
   "id": "f22d44a3-24ae-4489-b124-5aa21334d28c",
   "metadata": {},
   "outputs": [],
   "source": [
    "import pandas as pd\n",
    "import seaborn as sns\n",
    "import matplotlib.pyplot as plt\n",
    "import numpy as np\n",
    "import warnings \n",
    "warnings.filterwarnings('ignore')\n",
    "%matplotlib inline"
   ]
  },
  {
   "cell_type": "code",
   "execution_count": 36,
   "id": "4299cf31-3361-4c81-a035-62996eced13f",
   "metadata": {},
   "outputs": [],
   "source": [
    "from sklearn.model_selection import train_test_split"
   ]
  },
  {
   "cell_type": "code",
   "execution_count": 40,
   "id": "4d3b8dbc-fac8-4f99-9baf-ae182f719596",
   "metadata": {},
   "outputs": [],
   "source": [
    "X_train,X_test,y_train, y_test = train_test_split(dataset.drop('classe', axis=1),dataset['classe'],test_size=0.3)"
   ]
  },
  {
   "cell_type": "markdown",
   "id": "a95fd28e-c0d1-44f2-845c-0aeb0147cb6b",
   "metadata": {},
   "source": [
    "## Verificando a forma dos dados"
   ]
  },
  {
   "cell_type": "code",
   "execution_count": 49,
   "id": "007361ec-b638-4c2e-bba3-ce29854b2f1a",
   "metadata": {},
   "outputs": [
    {
     "data": {
      "text/plain": [
       "((1257, 64), (540, 64))"
      ]
     },
     "execution_count": 49,
     "metadata": {},
     "output_type": "execute_result"
    }
   ],
   "source": [
    "X_train.shape, X_test.shape"
   ]
  },
  {
   "cell_type": "code",
   "execution_count": 50,
   "id": "f6cd728e-75df-441d-b7d6-9bb07d4abde4",
   "metadata": {},
   "outputs": [
    {
     "data": {
      "text/plain": [
       "((1257,), (540,))"
      ]
     },
     "execution_count": 50,
     "metadata": {},
     "output_type": "execute_result"
    }
   ],
   "source": [
    "y_train.shape, y_test.shape "
   ]
  },
  {
   "cell_type": "markdown",
   "id": "21b702af-015f-4761-9893-b14dfcd64418",
   "metadata": {},
   "source": [
    "### Aplicando o algoritimo KNN "
   ]
  },
  {
   "cell_type": "code",
   "execution_count": 51,
   "id": "c278a982-1394-46b1-9801-0b523ce56686",
   "metadata": {},
   "outputs": [],
   "source": [
    "from sklearn.neighbors import KNeighborsClassifier\n",
    "knn = KNeighborsClassifier(n_neighbors=3)"
   ]
  },
  {
   "cell_type": "markdown",
   "id": "a2e295cb-817b-452a-88f5-f9b88969a370",
   "metadata": {},
   "source": [
    "### Treinamento do algoritimo"
   ]
  },
  {
   "cell_type": "code",
   "execution_count": 56,
   "id": "48b39ad4-7463-4fbc-a4f5-cedfe52c6d93",
   "metadata": {},
   "outputs": [
    {
     "data": {
      "text/plain": [
       "KNeighborsClassifier(n_neighbors=3)"
      ]
     },
     "execution_count": 56,
     "metadata": {},
     "output_type": "execute_result"
    }
   ],
   "source": [
    "knn.fit(X_train,y_train)"
   ]
  },
  {
   "cell_type": "markdown",
   "id": "2b733c46-dd16-405b-b3d0-25067b0ec917",
   "metadata": {},
   "source": [
    "### Predizendo novos pontos "
   ]
  },
  {
   "cell_type": "code",
   "execution_count": 58,
   "id": "12c2c364-8917-411f-9c86-0c2e436ae73f",
   "metadata": {},
   "outputs": [],
   "source": [
    "resultado = knn.predict(X_test)"
   ]
  },
  {
   "cell_type": "code",
   "execution_count": 60,
   "id": "22fae06e-9a1a-4c21-8fd8-beb6b58fcc60",
   "metadata": {},
   "outputs": [
    {
     "data": {
      "text/plain": [
       "array([2, 7, 5, 0, 5, 5, 9, 9, 4, 0, 5, 7, 4, 7, 4, 6, 2, 6, 7, 7, 3, 4,\n",
       "       6, 0, 4, 2, 2, 5, 2, 3, 4, 9, 3, 9, 2, 9, 7, 8, 3, 0, 6, 3, 9, 6,\n",
       "       1, 7, 7, 7, 7, 1, 0, 3, 3, 8, 0, 3, 4, 9, 9, 1, 3, 6, 3, 4, 2, 6,\n",
       "       3, 8, 4, 4, 8, 0, 6, 0, 9, 7, 0, 3, 9, 5, 9, 3, 9, 0, 5, 2, 3, 9,\n",
       "       0, 7, 2, 1, 4, 9, 8, 1, 6, 9, 5, 3, 7, 6, 2, 8, 4, 3, 6, 0, 2, 4,\n",
       "       1, 3, 8, 8, 5, 2, 0, 4, 3, 9, 3, 2, 6, 9, 6, 1, 2, 6, 6, 9, 6, 2,\n",
       "       3, 1, 8, 4, 1, 4, 9, 5, 2, 8, 0, 3, 6, 6, 8, 1, 3, 6, 1, 2, 6, 6,\n",
       "       8, 4, 5, 5, 4, 7, 5, 0, 3, 3, 1, 2, 5, 8, 9, 0, 1, 7, 1, 5, 6, 5,\n",
       "       0, 6, 7, 4, 6, 1, 9, 9, 9, 3, 8, 9, 9, 9, 7, 3, 0, 4, 0, 3, 8, 1,\n",
       "       4, 2, 8, 3, 8, 7, 2, 9, 8, 0, 9, 7, 7, 6, 8, 0, 9, 1, 5, 9, 9, 6,\n",
       "       7, 2, 3, 4, 7, 9, 9, 4, 0, 0, 6, 4, 3, 4, 9, 0, 0, 9, 6, 9, 2, 6,\n",
       "       2, 2, 2, 7, 2, 7, 3, 2, 2, 1, 7, 6, 8, 7, 4, 1, 9, 0, 3, 6, 8, 2,\n",
       "       2, 4, 8, 4, 7, 7, 5, 2, 8, 2, 5, 7, 3, 5, 4, 4, 2, 4, 4, 6, 7, 2,\n",
       "       1, 8, 5, 3, 1, 8, 3, 0, 4, 3, 5, 5, 5, 0, 5, 9, 1, 6, 8, 6, 3, 0,\n",
       "       2, 6, 4, 3, 8, 0, 0, 0, 6, 2, 5, 3, 9, 7, 8, 6, 5, 1, 3, 9, 6, 2,\n",
       "       3, 2, 5, 0, 3, 1, 2, 1, 0, 8, 2, 0, 2, 0, 7, 4, 8, 4, 4, 0, 9, 5,\n",
       "       6, 4, 2, 2, 3, 3, 6, 0, 7, 6, 2, 5, 3, 2, 3, 6, 0, 6, 9, 0, 4, 2,\n",
       "       2, 3, 9, 9, 7, 6, 0, 6, 7, 6, 7, 0, 0, 7, 0, 5, 0, 2, 0, 1, 8, 4,\n",
       "       5, 8, 2, 1, 9, 0, 3, 1, 8, 8, 3, 5, 4, 2, 3, 9, 9, 4, 4, 7, 8, 6,\n",
       "       3, 5, 8, 6, 2, 9, 4, 5, 8, 3, 8, 9, 4, 0, 5, 8, 7, 8, 6, 0, 9, 9,\n",
       "       3, 8, 4, 9, 4, 5, 1, 9, 2, 2, 0, 3, 6, 7, 6, 2, 5, 4, 7, 1, 1, 0,\n",
       "       1, 8, 1, 4, 6, 7, 6, 2, 9, 5, 3, 1, 6, 9, 4, 7, 9, 5, 5, 3, 7, 7,\n",
       "       6, 3, 5, 6, 1, 2, 3, 0, 2, 1, 2, 8, 8, 1, 6, 4, 1, 8, 3, 9, 9, 3,\n",
       "       8, 3, 5, 0, 3, 6, 8, 0, 1, 5, 6, 7, 2, 6, 0, 6, 2, 3, 2, 5, 9, 6,\n",
       "       0, 2, 9, 6, 6, 1, 9, 1, 9, 4, 5, 5])"
      ]
     },
     "execution_count": 60,
     "metadata": {},
     "output_type": "execute_result"
    }
   ],
   "source": [
    "resultado"
   ]
  },
  {
   "cell_type": "markdown",
   "id": "41542ba9-3fb2-40d0-a5ad-ab4091d0cfcf",
   "metadata": {},
   "source": [
    "## Tec de validação\n",
    "-  metricas de classificação "
   ]
  },
  {
   "cell_type": "code",
   "execution_count": 62,
   "id": "c172e5e4-71aa-4c6a-8bf5-25cc4869b253",
   "metadata": {},
   "outputs": [
    {
     "name": "stdout",
     "output_type": "stream",
     "text": [
      "              precision    recall  f1-score   support\n",
      "\n",
      "           0       1.00      1.00      1.00        56\n",
      "           1       0.98      1.00      0.99        40\n",
      "           2       1.00      1.00      1.00        62\n",
      "           3       0.98      0.98      0.98        63\n",
      "           4       1.00      1.00      1.00        52\n",
      "           5       1.00      0.98      0.99        48\n",
      "           6       0.98      1.00      0.99        63\n",
      "           7       0.98      1.00      0.99        45\n",
      "           8       1.00      0.96      0.98        49\n",
      "           9       1.00      1.00      1.00        62\n",
      "\n",
      "    accuracy                           0.99       540\n",
      "   macro avg       0.99      0.99      0.99       540\n",
      "weighted avg       0.99      0.99      0.99       540\n",
      "\n"
     ]
    }
   ],
   "source": [
    "from sklearn import metrics\n",
    "print(metrics.classification_report(y_test, resultado))"
   ]
  },
  {
   "cell_type": "markdown",
   "id": "c77a64e1-421f-47ca-83cb-77a9df6e2ab9",
   "metadata": {},
   "source": [
    "## Métrica da confusão"
   ]
  },
  {
   "cell_type": "code",
   "execution_count": 66,
   "id": "1943989c-c011-4faf-96f9-3867d8ee6d53",
   "metadata": {},
   "outputs": [
    {
     "name": "stdout",
     "output_type": "stream",
     "text": [
      "Predito   0   1   2   3   4   5   6   7   8   9  All\n",
      "Real                                                \n",
      "0        56   0   0   0   0   0   0   0   0   0   56\n",
      "1         0  40   0   0   0   0   0   0   0   0   40\n",
      "2         0   0  62   0   0   0   0   0   0   0   62\n",
      "3         0   0   0  62   0   0   0   1   0   0   63\n",
      "4         0   0   0   0  52   0   0   0   0   0   52\n",
      "5         0   0   0   0   0  47   1   0   0   0   48\n",
      "6         0   0   0   0   0   0  63   0   0   0   63\n",
      "7         0   0   0   0   0   0   0  45   0   0   45\n",
      "8         0   1   0   1   0   0   0   0  47   0   49\n",
      "9         0   0   0   0   0   0   0   0   0  62   62\n",
      "All      56  41  62  63  52  47  64  46  47  62  540\n"
     ]
    }
   ],
   "source": [
    "print(pd.crosstab(y_test, resultado, rownames=['Real'], colnames=['Predito'], margins=True))"
   ]
  },
  {
   "cell_type": "markdown",
   "id": "e3379db1-42f5-48fc-9b9a-b73bf612cbab",
   "metadata": {},
   "source": [
    "## Cross Validation"
   ]
  },
  {
   "cell_type": "code",
   "execution_count": 71,
   "id": "df8eff98-91ea-4dee-ab2b-0b6feb52a2a4",
   "metadata": {},
   "outputs": [
    {
     "data": {
      "text/plain": [
       "array([0.95555556, 0.95833333, 0.96657382, 0.98607242, 0.96657382])"
      ]
     },
     "execution_count": 71,
     "metadata": {},
     "output_type": "execute_result"
    }
   ],
   "source": [
    "from sklearn.model_selection import cross_val_score\n",
    "scores = cross_val_score(knn, dataset.drop('classe', axis=1), dataset['classe'], cv=5)\n",
    "scores"
   ]
  }
 ],
 "metadata": {
  "kernelspec": {
   "display_name": "Python 3 (ipykernel)",
   "language": "python",
   "name": "python3"
  },
  "language_info": {
   "codemirror_mode": {
    "name": "ipython",
    "version": 3
   },
   "file_extension": ".py",
   "mimetype": "text/x-python",
   "name": "python",
   "nbconvert_exporter": "python",
   "pygments_lexer": "ipython3",
   "version": "3.9.12"
  }
 },
 "nbformat": 4,
 "nbformat_minor": 5
}
